{
 "cells": [
  {
   "cell_type": "code",
   "execution_count": 15,
   "id": "0a3bb7c5",
   "metadata": {
    "scrolled": true
   },
   "outputs": [
    {
     "ename": "ValueError",
     "evalue": "Length of values (7) does not match length of index (30)",
     "output_type": "error",
     "traceback": [
      "\u001b[0;31m---------------------------------------------------------------------------\u001b[0m",
      "\u001b[0;31mValueError\u001b[0m                                Traceback (most recent call last)",
      "Input \u001b[0;32mIn [15]\u001b[0m, in \u001b[0;36m<cell line: 47>\u001b[0;34m()\u001b[0m\n\u001b[1;32m     44\u001b[0m     ljtM\u001b[38;5;241m.\u001b[39mappend([\u001b[38;5;28mmax\u001b[39m(ljt[j])]) \n\u001b[1;32m     45\u001b[0m     dlvotM\u001b[38;5;241m.\u001b[39mappend([\u001b[38;5;28mmax\u001b[39m(dlvot[j])]) \n\u001b[0;32m---> 47\u001b[0m df \u001b[38;5;241m=\u001b[39m \u001b[43mmodel\u001b[49m\u001b[38;5;241;43m.\u001b[39;49m\u001b[43massign\u001b[49m\u001b[43m(\u001b[49m\u001b[43mID\u001b[49m\u001b[38;5;241;43m=\u001b[39;49m\u001b[43mtempall\u001b[49m\u001b[43m[\u001b[49m\u001b[43m:\u001b[49m\u001b[43m,\u001b[49m\u001b[38;5;241;43m0\u001b[39;49m\u001b[43m]\u001b[49m\u001b[43m \u001b[49m\u001b[43m,\u001b[49m\u001b[43m \u001b[49m\u001b[43mLENGTH\u001b[49m\u001b[38;5;241;43m=\u001b[39;49m\u001b[43mtempall\u001b[49m\u001b[43m[\u001b[49m\u001b[43m:\u001b[49m\u001b[43m,\u001b[49m\u001b[38;5;241;43m1\u001b[39;49m\u001b[43m]\u001b[49m\u001b[43m,\u001b[49m\u001b[43m \u001b[49m\u001b[43mWIDTH\u001b[49m\u001b[38;5;241;43m=\u001b[39;49m\u001b[43mtempall\u001b[49m\u001b[43m[\u001b[49m\u001b[43m:\u001b[49m\u001b[43m,\u001b[49m\u001b[38;5;241;43m2\u001b[39;49m\u001b[43m]\u001b[49m\u001b[43m,\u001b[49m\u001b[43m \u001b[49m\u001b[43mTHICKNESS\u001b[49m\u001b[38;5;241;43m=\u001b[39;49m\u001b[43mtempall\u001b[49m\u001b[43m[\u001b[49m\u001b[43m:\u001b[49m\u001b[43m,\u001b[49m\u001b[38;5;241;43m3\u001b[39;49m\u001b[43m]\u001b[49m\u001b[43m \u001b[49m\u001b[43m,\u001b[49m\u001b[43m \u001b[49m\u001b[43mF0\u001b[49m\u001b[38;5;241;43m=\u001b[39;49m\u001b[43mtempall\u001b[49m\u001b[43m[\u001b[49m\u001b[43m:\u001b[49m\u001b[43m,\u001b[49m\u001b[38;5;241;43m4\u001b[39;49m\u001b[43m]\u001b[49m\u001b[43m \u001b[49m\u001b[43m,\u001b[49m\u001b[43m \u001b[49m\u001b[43mR_tip\u001b[49m\u001b[38;5;241;43m=\u001b[39;49m\u001b[43mtempall\u001b[49m\u001b[43m[\u001b[49m\u001b[43m:\u001b[49m\u001b[43m,\u001b[49m\u001b[38;5;241;43m5\u001b[39;49m\u001b[43m]\u001b[49m\u001b[43m \u001b[49m\u001b[43m,\u001b[49m\u001b[43m \u001b[49m\u001b[43mKc\u001b[49m\u001b[38;5;241;43m=\u001b[39;49m\u001b[43mtempall\u001b[49m\u001b[43m[\u001b[49m\u001b[43m:\u001b[49m\u001b[43m,\u001b[49m\u001b[38;5;241;43m6\u001b[39;49m\u001b[43m]\u001b[49m\u001b[43m \u001b[49m\u001b[43m,\u001b[49m\u001b[43m \u001b[49m\u001b[43mVOLUME\u001b[49m\u001b[38;5;241;43m=\u001b[39;49m\u001b[43mtempall\u001b[49m\u001b[43m[\u001b[49m\u001b[43m:\u001b[49m\u001b[43m,\u001b[49m\u001b[38;5;241;43m8\u001b[39;49m\u001b[43m]\u001b[49m\u001b[43m \u001b[49m\u001b[43m,\u001b[49m\u001b[43m \u001b[49m\u001b[43mA0\u001b[49m\u001b[38;5;241;43m=\u001b[39;49m\u001b[43mtempall\u001b[49m\u001b[43m[\u001b[49m\u001b[43m:\u001b[49m\u001b[43m,\u001b[49m\u001b[38;5;241;43m15\u001b[39;49m\u001b[43m]\u001b[49m\u001b[43m \u001b[49m\u001b[43m,\u001b[49m\u001b[43m \u001b[49m\u001b[43mRH\u001b[49m\u001b[38;5;241;43m=\u001b[39;49m\u001b[43mtempall\u001b[49m\u001b[43m[\u001b[49m\u001b[43m:\u001b[49m\u001b[43m,\u001b[49m\u001b[38;5;241;43m29\u001b[39;49m\u001b[43m]\u001b[49m\u001b[43m \u001b[49m\u001b[43m,\u001b[49m\u001b[43m \u001b[49m\u001b[43mEs\u001b[49m\u001b[38;5;241;43m=\u001b[39;49m\u001b[43mtempall\u001b[49m\u001b[43m[\u001b[49m\u001b[43m:\u001b[49m\u001b[43m,\u001b[49m\u001b[38;5;241;43m16\u001b[39;49m\u001b[43m]\u001b[49m\u001b[43m,\u001b[49m\u001b[43m \u001b[49m\u001b[43mQ\u001b[49m\u001b[38;5;241;43m=\u001b[39;49m\u001b[43mtempall\u001b[49m\u001b[43m[\u001b[49m\u001b[43m:\u001b[49m\u001b[43m,\u001b[49m\u001b[38;5;241;43m17\u001b[39;49m\u001b[43m]\u001b[49m\u001b[43m,\u001b[49m\u001b[43m \u001b[49m\u001b[43mF_Total\u001b[49m\u001b[38;5;241;43m=\u001b[39;49m\u001b[43mforcetM\u001b[49m\u001b[43m \u001b[49m\u001b[43m,\u001b[49m\u001b[43m \u001b[49m\u001b[43mF_Hertz\u001b[49m\u001b[38;5;241;43m=\u001b[39;49m\u001b[43mhertztM\u001b[49m\u001b[43m \u001b[49m\u001b[43m,\u001b[49m\u001b[43m \u001b[49m\u001b[43mF_vdw\u001b[49m\u001b[38;5;241;43m=\u001b[39;49m\u001b[43mvdwtM\u001b[49m\u001b[43m \u001b[49m\u001b[43m,\u001b[49m\u001b[43m \u001b[49m\u001b[43mF_vis\u001b[49m\u001b[38;5;241;43m=\u001b[39;49m\u001b[43mviscotM\u001b[49m\u001b[43m \u001b[49m\u001b[43m,\u001b[49m\u001b[43m \u001b[49m\u001b[43mF_cap\u001b[49m\u001b[38;5;241;43m=\u001b[39;49m\u001b[43mcaptM\u001b[49m\u001b[43m \u001b[49m\u001b[43m,\u001b[49m\u001b[43m \u001b[49m\u001b[43mF_LJ\u001b[49m\u001b[38;5;241;43m=\u001b[39;49m\u001b[43mljtM\u001b[49m\u001b[43m \u001b[49m\u001b[43m,\u001b[49m\u001b[43m \u001b[49m\u001b[43mF_DLVO\u001b[49m\u001b[38;5;241;43m=\u001b[39;49m\u001b[43mdlvotM\u001b[49m\u001b[43m \u001b[49m\u001b[43m)\u001b[49m\n\u001b[1;32m     48\u001b[0m \u001b[38;5;66;03m#display(df)\u001b[39;00m\n\u001b[1;32m     49\u001b[0m tabloo\u001b[38;5;241m.\u001b[39mshow(df)\n",
      "File \u001b[0;32m~/anaconda3/lib/python3.9/site-packages/pandas/core/frame.py:4512\u001b[0m, in \u001b[0;36mDataFrame.assign\u001b[0;34m(self, **kwargs)\u001b[0m\n\u001b[1;32m   4509\u001b[0m data \u001b[38;5;241m=\u001b[39m \u001b[38;5;28mself\u001b[39m\u001b[38;5;241m.\u001b[39mcopy()\n\u001b[1;32m   4511\u001b[0m \u001b[38;5;28;01mfor\u001b[39;00m k, v \u001b[38;5;129;01min\u001b[39;00m kwargs\u001b[38;5;241m.\u001b[39mitems():\n\u001b[0;32m-> 4512\u001b[0m     data[k] \u001b[38;5;241m=\u001b[39m com\u001b[38;5;241m.\u001b[39mapply_if_callable(v, data)\n\u001b[1;32m   4513\u001b[0m \u001b[38;5;28;01mreturn\u001b[39;00m data\n",
      "File \u001b[0;32m~/anaconda3/lib/python3.9/site-packages/pandas/core/frame.py:3655\u001b[0m, in \u001b[0;36mDataFrame.__setitem__\u001b[0;34m(self, key, value)\u001b[0m\n\u001b[1;32m   3652\u001b[0m     \u001b[38;5;28mself\u001b[39m\u001b[38;5;241m.\u001b[39m_setitem_array([key], value)\n\u001b[1;32m   3653\u001b[0m \u001b[38;5;28;01melse\u001b[39;00m:\n\u001b[1;32m   3654\u001b[0m     \u001b[38;5;66;03m# set column\u001b[39;00m\n\u001b[0;32m-> 3655\u001b[0m     \u001b[38;5;28;43mself\u001b[39;49m\u001b[38;5;241;43m.\u001b[39;49m\u001b[43m_set_item\u001b[49m\u001b[43m(\u001b[49m\u001b[43mkey\u001b[49m\u001b[43m,\u001b[49m\u001b[43m \u001b[49m\u001b[43mvalue\u001b[49m\u001b[43m)\u001b[49m\n",
      "File \u001b[0;32m~/anaconda3/lib/python3.9/site-packages/pandas/core/frame.py:3832\u001b[0m, in \u001b[0;36mDataFrame._set_item\u001b[0;34m(self, key, value)\u001b[0m\n\u001b[1;32m   3822\u001b[0m \u001b[38;5;28;01mdef\u001b[39;00m \u001b[38;5;21m_set_item\u001b[39m(\u001b[38;5;28mself\u001b[39m, key, value) \u001b[38;5;241m-\u001b[39m\u001b[38;5;241m>\u001b[39m \u001b[38;5;28;01mNone\u001b[39;00m:\n\u001b[1;32m   3823\u001b[0m     \u001b[38;5;124;03m\"\"\"\u001b[39;00m\n\u001b[1;32m   3824\u001b[0m \u001b[38;5;124;03m    Add series to DataFrame in specified column.\u001b[39;00m\n\u001b[1;32m   3825\u001b[0m \n\u001b[0;32m   (...)\u001b[0m\n\u001b[1;32m   3830\u001b[0m \u001b[38;5;124;03m    ensure homogeneity.\u001b[39;00m\n\u001b[1;32m   3831\u001b[0m \u001b[38;5;124;03m    \"\"\"\u001b[39;00m\n\u001b[0;32m-> 3832\u001b[0m     value \u001b[38;5;241m=\u001b[39m \u001b[38;5;28;43mself\u001b[39;49m\u001b[38;5;241;43m.\u001b[39;49m\u001b[43m_sanitize_column\u001b[49m\u001b[43m(\u001b[49m\u001b[43mvalue\u001b[49m\u001b[43m)\u001b[49m\n\u001b[1;32m   3834\u001b[0m     \u001b[38;5;28;01mif\u001b[39;00m (\n\u001b[1;32m   3835\u001b[0m         key \u001b[38;5;129;01min\u001b[39;00m \u001b[38;5;28mself\u001b[39m\u001b[38;5;241m.\u001b[39mcolumns\n\u001b[1;32m   3836\u001b[0m         \u001b[38;5;129;01mand\u001b[39;00m value\u001b[38;5;241m.\u001b[39mndim \u001b[38;5;241m==\u001b[39m \u001b[38;5;241m1\u001b[39m\n\u001b[1;32m   3837\u001b[0m         \u001b[38;5;129;01mand\u001b[39;00m \u001b[38;5;129;01mnot\u001b[39;00m is_extension_array_dtype(value)\n\u001b[1;32m   3838\u001b[0m     ):\n\u001b[1;32m   3839\u001b[0m         \u001b[38;5;66;03m# broadcast across multiple columns if necessary\u001b[39;00m\n\u001b[1;32m   3840\u001b[0m         \u001b[38;5;28;01mif\u001b[39;00m \u001b[38;5;129;01mnot\u001b[39;00m \u001b[38;5;28mself\u001b[39m\u001b[38;5;241m.\u001b[39mcolumns\u001b[38;5;241m.\u001b[39mis_unique \u001b[38;5;129;01mor\u001b[39;00m \u001b[38;5;28misinstance\u001b[39m(\u001b[38;5;28mself\u001b[39m\u001b[38;5;241m.\u001b[39mcolumns, MultiIndex):\n",
      "File \u001b[0;32m~/anaconda3/lib/python3.9/site-packages/pandas/core/frame.py:4535\u001b[0m, in \u001b[0;36mDataFrame._sanitize_column\u001b[0;34m(self, value)\u001b[0m\n\u001b[1;32m   4532\u001b[0m     \u001b[38;5;28;01mreturn\u001b[39;00m _reindex_for_setitem(value, \u001b[38;5;28mself\u001b[39m\u001b[38;5;241m.\u001b[39mindex)\n\u001b[1;32m   4534\u001b[0m \u001b[38;5;28;01mif\u001b[39;00m is_list_like(value):\n\u001b[0;32m-> 4535\u001b[0m     \u001b[43mcom\u001b[49m\u001b[38;5;241;43m.\u001b[39;49m\u001b[43mrequire_length_match\u001b[49m\u001b[43m(\u001b[49m\u001b[43mvalue\u001b[49m\u001b[43m,\u001b[49m\u001b[43m \u001b[49m\u001b[38;5;28;43mself\u001b[39;49m\u001b[38;5;241;43m.\u001b[39;49m\u001b[43mindex\u001b[49m\u001b[43m)\u001b[49m\n\u001b[1;32m   4536\u001b[0m \u001b[38;5;28;01mreturn\u001b[39;00m sanitize_array(value, \u001b[38;5;28mself\u001b[39m\u001b[38;5;241m.\u001b[39mindex, copy\u001b[38;5;241m=\u001b[39m\u001b[38;5;28;01mTrue\u001b[39;00m, allow_2d\u001b[38;5;241m=\u001b[39m\u001b[38;5;28;01mTrue\u001b[39;00m)\n",
      "File \u001b[0;32m~/anaconda3/lib/python3.9/site-packages/pandas/core/common.py:557\u001b[0m, in \u001b[0;36mrequire_length_match\u001b[0;34m(data, index)\u001b[0m\n\u001b[1;32m    553\u001b[0m \u001b[38;5;124;03m\"\"\"\u001b[39;00m\n\u001b[1;32m    554\u001b[0m \u001b[38;5;124;03mCheck the length of data matches the length of the index.\u001b[39;00m\n\u001b[1;32m    555\u001b[0m \u001b[38;5;124;03m\"\"\"\u001b[39;00m\n\u001b[1;32m    556\u001b[0m \u001b[38;5;28;01mif\u001b[39;00m \u001b[38;5;28mlen\u001b[39m(data) \u001b[38;5;241m!=\u001b[39m \u001b[38;5;28mlen\u001b[39m(index):\n\u001b[0;32m--> 557\u001b[0m     \u001b[38;5;28;01mraise\u001b[39;00m \u001b[38;5;167;01mValueError\u001b[39;00m(\n\u001b[1;32m    558\u001b[0m         \u001b[38;5;124m\"\u001b[39m\u001b[38;5;124mLength of values \u001b[39m\u001b[38;5;124m\"\u001b[39m\n\u001b[1;32m    559\u001b[0m         \u001b[38;5;124mf\u001b[39m\u001b[38;5;124m\"\u001b[39m\u001b[38;5;124m(\u001b[39m\u001b[38;5;132;01m{\u001b[39;00m\u001b[38;5;28mlen\u001b[39m(data)\u001b[38;5;132;01m}\u001b[39;00m\u001b[38;5;124m) \u001b[39m\u001b[38;5;124m\"\u001b[39m\n\u001b[1;32m    560\u001b[0m         \u001b[38;5;124m\"\u001b[39m\u001b[38;5;124mdoes not match length of index \u001b[39m\u001b[38;5;124m\"\u001b[39m\n\u001b[1;32m    561\u001b[0m         \u001b[38;5;124mf\u001b[39m\u001b[38;5;124m\"\u001b[39m\u001b[38;5;124m(\u001b[39m\u001b[38;5;132;01m{\u001b[39;00m\u001b[38;5;28mlen\u001b[39m(index)\u001b[38;5;132;01m}\u001b[39;00m\u001b[38;5;124m)\u001b[39m\u001b[38;5;124m\"\u001b[39m\n\u001b[1;32m    562\u001b[0m     )\n",
      "\u001b[0;31mValueError\u001b[0m: Length of values (7) does not match length of index (30)"
     ]
    }
   ],
   "source": [
    "import pandas as pd\n",
    "import numpy as np\n",
    "import os\n",
    "from IPython.display import display\n",
    "import tabloo\n",
    "import qgrid\n",
    "\n",
    "tempall = np.genfromtxt(open('tempall.txt',\"r\"))\n",
    "model = pd.read_csv(\"cantileversdata_model.cvs\")\n",
    "casos = np.array(len(tempall[:,0]))\n",
    "\n",
    "\n",
    "def findfile(name, path):\n",
    "    for dirpath, dirname, filename in os.walk(path):\n",
    "        if name in filename:\n",
    "            return os.path.join(dirpath, name)\n",
    "\n",
    "#dominio temporal\n",
    "direc = os.getcwd()\n",
    "direc = direc+'/PARALLELBASIC_0/'\n",
    "forcet=[];maxforcet=[];vdwt=[];hertzt=[];viscot=[];capt=[];ljt=[];dlvot=[]\n",
    "casos = [0,5,9,11,18,22,24]     \n",
    "for i in range(casos):\n",
    "#for i in casos:\n",
    "    filepatht = findfile(\"tdom\"+str(i+1)+\".dfo\", direc)\n",
    "    tdom = np.genfromtxt(open(str(filepatht),\"r\"))        \n",
    "    forcet.append(tdom[:,4])\n",
    "    maxforcet.append(tdom[:,5])\n",
    "    vdwt.append(tdom[:,6])\n",
    "    hertzt.append(tdom[:,7])\n",
    "    viscot.append(tdom[:,8])\n",
    "    capt.append(tdom [:,9]) \n",
    "    ljt.append(tdom[:,10])\n",
    "    dlvot.append(tdom [:,11])    \n",
    "    \n",
    "forcetM=[];vdwtM=[];hertztM=[];viscotM=[];captM=[];ljtM=[];dlvotM=[]\n",
    "for j in range(casos):\n",
    "#for j in range(len(casos)):    \n",
    "    forcetM.append([max(forcet[j])]) \n",
    "    vdwtM.append([max(vdwt[j])]) \n",
    "    hertztM.append([max(hertzt[j])]) \n",
    "    viscotM.append([max(viscot[j])]) \n",
    "    captM.append([max(capt[j])]) \n",
    "    ljtM.append([max(ljt[j])]) \n",
    "    dlvotM.append([max(dlvot[j])]) \n",
    "\n",
    "df = model.assign(ID=tempall[:,0] , LENGTH=tempall[:,1], WIDTH=tempall[:,2], THICKNESS=tempall[:,3] , F0=tempall[:,4] , R_tip=tempall[:,5] , Kc=tempall[:,6] , VOLUME=tempall[:,8] , A0=tempall[:,15] , RH=tempall[:,29] , Es=tempall[:,16], Q=tempall[:,17], F_Total=forcetM , F_Hertz=hertztM , F_vdw=vdwtM , F_vis=viscotM , F_cap=captM , F_LJ=ljtM , F_DLVO=dlvotM )\n",
    "#display(df)\n",
    "tabloo.show(df)\n",
    "\n",
    "#For more information on the use of tabloo please visit https://github.com/bluenote10/tabloo\n"
   ]
  },
  {
   "cell_type": "code",
   "execution_count": null,
   "id": "ebe905d4",
   "metadata": {},
   "outputs": [
    {
     "name": "stdout",
     "output_type": "stream",
     "text": [
      "0.2368\n",
      "0.27027\n",
      "0.24071\n",
      "0.69914\n",
      "1.77563\n",
      "0.24764\n",
      "0.24764\n"
     ]
    }
   ],
   "source": [
    "import pandas as pd\n",
    "import numpy as np\n",
    "import os\n",
    "from IPython.display import display\n",
    "\n",
    "\n",
    "tempall = np.genfromtxt(open('tempall.txt',\"r\"))\n",
    "model = pd.read_csv(\"cantileversdata_model.cvs\")\n",
    "model = model.drop([1, 2,3,4,6,7,8,10,12,13,14,15,16,17,19,20,21,23,25,26,27,28,29],axis=0)\n",
    "#casos = np.array(len(tempall[:,0]))\n",
    "casos = [0,5,9,11,18,22,24] \n",
    "#tempall = \n",
    "def findfile(name, path):\n",
    "    for dirpath, dirname, filename in os.walk(path):\n",
    "        if name in filename:\n",
    "            return os.path.join(dirpath, name)\n",
    "#dominio temporal\n",
    "\n",
    "#def cauntitative (tempall, model):\n",
    "direc = os.getcwd()\n",
    "direc = direc+'/PARALLELBASIC_0/'\n",
    "forcet=[];maxforcet=[];vdwt=[];hertzt=[];viscot=[];capt=[];ljt=[];dlvot=[]\n",
    "     \n",
    "for i in casos:\n",
    "    filepatht = findfile(\"tdom\"+str(i+1)+\".dfo\", direc)\n",
    "    tdom = np.genfromtxt(open(str(filepatht),\"r\"))        \n",
    "    forcet.append(tdom[:,4])\n",
    "    maxforcet.append(tdom[:,5])\n",
    "    vdwt.append(tdom[:,6])\n",
    "    hertzt.append(tdom[:,7])\n",
    "    viscot.append(tdom[:,8])\n",
    "    capt.append(tdom [:,9]) \n",
    "    ljt.append(tdom[:,10])\n",
    "    dlvot.append(tdom [:,11])    \n",
    "    \n",
    "forcetM=[];vdwtM=[];hertztM=[];viscotM=[];captM=[];ljtM=[];dlvotM=[]\n",
    "for j in range(len(casos)):\n",
    "    print(max(forcet[j]))\n",
    "    forcetM.append([max(forcet[j])]) \n",
    "    vdwtM.append([max(vdwt[j])]) \n",
    "    hertztM.append([max(hertzt[j])]) \n",
    "    viscotM.append([max(viscot[j])]) \n",
    "    captM.append([max(capt[j])]) \n",
    "    ljtM.append([max(ljt[j])]) \n",
    "    dlvotM.append([max(dlvot[j])]) \n",
    "\n",
    "\n",
    "i = (tempall[casos,0])\n",
    "l = (tempall[casos,1])\n",
    "w = (tempall[casos,2])\n",
    "t = (tempall[casos,3])\n",
    "f = (tempall[casos,4])\n",
    "r = (tempall[casos,5])\n",
    "k = (tempall[casos,6])\n",
    "v = (tempall[casos,8])\n",
    "a = (tempall[casos,15])\n",
    "rh = (tempall[casos,29])\n",
    "e = (tempall[casos,16])\n",
    "q = (tempall[casos,17])\n",
    "#df = model.assign(ID=tempall[casos,0] , LENGTH=tempall[casos,1], WIDTH=tempall[casos,2], THICKNESS=tempall[casos,3] , F0=tempall[casos,4] , R_tip=tempall[casos,5] , Kc=tempall[casos,6] , VOLUME=tempall[casos,8] , A0=tempall[casos,15] , RH=tempall[casos,29] , Es=tempall[casos,16], Q=tempall[casos,17], F_T_tT=forcetM , F_Hertz=hertztM , F_vdw=vdwtM , F_vis=viscotM , F_cap=captM , F_LJ=ljtM , F_DLVO=dlvotM )\n",
    "df = model.assign(ID=i, LENGTH=l, WIDTH=w, THICKNESS=t , F0=f, R_tip=r, Kc=k , VOLUME=v, A0=a, RH=rh, Es=e, Q=q, F_T_tT=forcetM , F_Hertz=hertztM , F_vdw=vdwtM , F_vis=viscotM , F_cap=captM , F_LJ=ljtM , F_DLVO=dlvotM )\n",
    "tabloo.show(df)"
   ]
  },
  {
   "cell_type": "code",
   "execution_count": 5,
   "id": "edaa0e1c",
   "metadata": {},
   "outputs": [
    {
     "data": {
      "text/html": [
       "\n",
       "        <iframe\n",
       "            width=\"100%\"\n",
       "            height=\"475\"\n",
       "            src=\"http://willy:40000/dtale/iframe/1\"\n",
       "            frameborder=\"0\"\n",
       "            allowfullscreen\n",
       "            \n",
       "        ></iframe>\n",
       "        "
      ],
      "text/plain": [
       "<IPython.lib.display.IFrame at 0x7f9d86a915e0>"
      ]
     },
     "metadata": {},
     "output_type": "display_data"
    },
    {
     "data": {
      "text/plain": []
     },
     "execution_count": 5,
     "metadata": {},
     "output_type": "execute_result"
    },
    {
     "name": "stdout",
     "output_type": "stream",
     "text": [
      "Exception occurred while processing request: multi-line expressions are only valid in the context of data, use DataFrame.eval\n",
      "Traceback (most recent call last):\n",
      "  File \"/home/willy/anaconda3/lib/python3.9/site-packages/dtale/views.py\", line 120, in _handle_exceptions\n",
      "    return func(*args, **kwargs)\n",
      "  File \"/home/willy/anaconda3/lib/python3.9/site-packages/dtale/views.py\", line 1834, in test_filter\n",
      "    run_query(\n",
      "  File \"/home/willy/anaconda3/lib/python3.9/site-packages/dtale/query.py\", line 69, in run_query\n",
      "    df = df.query(\n",
      "  File \"/home/willy/anaconda3/lib/python3.9/site-packages/pandas/core/frame.py\", line 4060, in query\n",
      "    res = self.eval(expr, **kwargs)\n",
      "  File \"/home/willy/anaconda3/lib/python3.9/site-packages/pandas/core/frame.py\", line 4191, in eval\n",
      "    return _eval(expr, inplace=inplace, **kwargs)\n",
      "  File \"/home/willy/anaconda3/lib/python3.9/site-packages/pandas/core/computation/eval.py\", line 323, in eval\n",
      "    raise ValueError(\n",
      "ValueError: multi-line expressions are only valid in the context of data, use DataFrame.eval\n"
     ]
    },
    {
     "name": "stderr",
     "output_type": "stream",
     "text": [
      "2022-05-23 04:08:35,116 - ERROR    - Exception occurred while processing request: multi-line expressions are only valid in the context of data, use DataFrame.eval\n",
      "Traceback (most recent call last):\n",
      "  File \"/home/willy/anaconda3/lib/python3.9/site-packages/dtale/views.py\", line 120, in _handle_exceptions\n",
      "    return func(*args, **kwargs)\n",
      "  File \"/home/willy/anaconda3/lib/python3.9/site-packages/dtale/views.py\", line 1834, in test_filter\n",
      "    run_query(\n",
      "  File \"/home/willy/anaconda3/lib/python3.9/site-packages/dtale/query.py\", line 69, in run_query\n",
      "    df = df.query(\n",
      "  File \"/home/willy/anaconda3/lib/python3.9/site-packages/pandas/core/frame.py\", line 4060, in query\n",
      "    res = self.eval(expr, **kwargs)\n",
      "  File \"/home/willy/anaconda3/lib/python3.9/site-packages/pandas/core/frame.py\", line 4191, in eval\n",
      "    return _eval(expr, inplace=inplace, **kwargs)\n",
      "  File \"/home/willy/anaconda3/lib/python3.9/site-packages/pandas/core/computation/eval.py\", line 323, in eval\n",
      "    raise ValueError(\n",
      "ValueError: multi-line expressions are only valid in the context of data, use DataFrame.eval\n"
     ]
    },
    {
     "name": "stdout",
     "output_type": "stream",
     "text": [
      "Exception occurred while processing request: query \"`ID` == 1 and `ID` == 5  and `ID` == 10\" found no data, please alter\n",
      "Traceback (most recent call last):\n",
      "  File \"/home/willy/anaconda3/lib/python3.9/site-packages/dtale/views.py\", line 120, in _handle_exceptions\n",
      "    return func(*args, **kwargs)\n",
      "  File \"/home/willy/anaconda3/lib/python3.9/site-packages/dtale/views.py\", line 1834, in test_filter\n",
      "    run_query(\n",
      "  File \"/home/willy/anaconda3/lib/python3.9/site-packages/dtale/query.py\", line 76, in run_query\n",
      "    raise Exception('query \"{}\" found no data, please alter'.format(query))\n",
      "Exception: query \"`ID` == 1 and `ID` == 5  and `ID` == 10\" found no data, please alter\n"
     ]
    },
    {
     "name": "stderr",
     "output_type": "stream",
     "text": [
      "2022-05-23 04:09:07,308 - ERROR    - Exception occurred while processing request: query \"`ID` == 1 and `ID` == 5  and `ID` == 10\" found no data, please alter\n",
      "Traceback (most recent call last):\n",
      "  File \"/home/willy/anaconda3/lib/python3.9/site-packages/dtale/views.py\", line 120, in _handle_exceptions\n",
      "    return func(*args, **kwargs)\n",
      "  File \"/home/willy/anaconda3/lib/python3.9/site-packages/dtale/views.py\", line 1834, in test_filter\n",
      "    run_query(\n",
      "  File \"/home/willy/anaconda3/lib/python3.9/site-packages/dtale/query.py\", line 76, in run_query\n",
      "    raise Exception('query \"{}\" found no data, please alter'.format(query))\n",
      "Exception: query \"`ID` == 1 and `ID` == 5  and `ID` == 10\" found no data, please alter\n"
     ]
    },
    {
     "name": "stdout",
     "output_type": "stream",
     "text": [
      "Exception occurred while processing request: Python keyword not valid identifier in numexpr query (<unknown>, line 1)\n",
      "Traceback (most recent call last):\n",
      "  File \"/home/willy/anaconda3/lib/python3.9/site-packages/dtale/views.py\", line 120, in _handle_exceptions\n",
      "    return func(*args, **kwargs)\n",
      "  File \"/home/willy/anaconda3/lib/python3.9/site-packages/dtale/views.py\", line 1834, in test_filter\n",
      "    run_query(\n",
      "  File \"/home/willy/anaconda3/lib/python3.9/site-packages/dtale/query.py\", line 69, in run_query\n",
      "    df = df.query(\n",
      "  File \"/home/willy/anaconda3/lib/python3.9/site-packages/pandas/core/frame.py\", line 4060, in query\n",
      "    res = self.eval(expr, **kwargs)\n",
      "  File \"/home/willy/anaconda3/lib/python3.9/site-packages/pandas/core/frame.py\", line 4191, in eval\n",
      "    return _eval(expr, inplace=inplace, **kwargs)\n",
      "  File \"/home/willy/anaconda3/lib/python3.9/site-packages/pandas/core/computation/eval.py\", line 348, in eval\n",
      "    parsed_expr = Expr(expr, engine=engine, parser=parser, env=env)\n",
      "  File \"/home/willy/anaconda3/lib/python3.9/site-packages/pandas/core/computation/expr.py\", line 806, in __init__\n",
      "    self.terms = self.parse()\n",
      "  File \"/home/willy/anaconda3/lib/python3.9/site-packages/pandas/core/computation/expr.py\", line 825, in parse\n",
      "    return self._visitor.visit(self.expr)\n",
      "  File \"/home/willy/anaconda3/lib/python3.9/site-packages/pandas/core/computation/expr.py\", line 407, in visit\n",
      "    raise e\n",
      "  File \"/home/willy/anaconda3/lib/python3.9/site-packages/pandas/core/computation/expr.py\", line 403, in visit\n",
      "    node = ast.fix_missing_locations(ast.parse(clean))\n",
      "  File \"/home/willy/anaconda3/lib/python3.9/ast.py\", line 50, in parse\n",
      "    return compile(source, filename, mode, flags,\n",
      "  File \"<unknown>\", line 1\n",
      "    ID ==1 and and  ID ==5 and  ID ==10 \n",
      "               ^\n",
      "SyntaxError: Python keyword not valid identifier in numexpr query\n"
     ]
    },
    {
     "name": "stderr",
     "output_type": "stream",
     "text": [
      "2022-05-23 04:09:21,899 - ERROR    - Exception occurred while processing request: Python keyword not valid identifier in numexpr query (<unknown>, line 1)\n",
      "Traceback (most recent call last):\n",
      "  File \"/home/willy/anaconda3/lib/python3.9/site-packages/dtale/views.py\", line 120, in _handle_exceptions\n",
      "    return func(*args, **kwargs)\n",
      "  File \"/home/willy/anaconda3/lib/python3.9/site-packages/dtale/views.py\", line 1834, in test_filter\n",
      "    run_query(\n",
      "  File \"/home/willy/anaconda3/lib/python3.9/site-packages/dtale/query.py\", line 69, in run_query\n",
      "    df = df.query(\n",
      "  File \"/home/willy/anaconda3/lib/python3.9/site-packages/pandas/core/frame.py\", line 4060, in query\n",
      "    res = self.eval(expr, **kwargs)\n",
      "  File \"/home/willy/anaconda3/lib/python3.9/site-packages/pandas/core/frame.py\", line 4191, in eval\n",
      "    return _eval(expr, inplace=inplace, **kwargs)\n",
      "  File \"/home/willy/anaconda3/lib/python3.9/site-packages/pandas/core/computation/eval.py\", line 348, in eval\n",
      "    parsed_expr = Expr(expr, engine=engine, parser=parser, env=env)\n",
      "  File \"/home/willy/anaconda3/lib/python3.9/site-packages/pandas/core/computation/expr.py\", line 806, in __init__\n",
      "    self.terms = self.parse()\n",
      "  File \"/home/willy/anaconda3/lib/python3.9/site-packages/pandas/core/computation/expr.py\", line 825, in parse\n",
      "    return self._visitor.visit(self.expr)\n",
      "  File \"/home/willy/anaconda3/lib/python3.9/site-packages/pandas/core/computation/expr.py\", line 407, in visit\n",
      "    raise e\n",
      "  File \"/home/willy/anaconda3/lib/python3.9/site-packages/pandas/core/computation/expr.py\", line 403, in visit\n",
      "    node = ast.fix_missing_locations(ast.parse(clean))\n",
      "  File \"/home/willy/anaconda3/lib/python3.9/ast.py\", line 50, in parse\n",
      "    return compile(source, filename, mode, flags,\n",
      "  File \"<unknown>\", line 1\n",
      "    ID ==1 and and  ID ==5 and  ID ==10 \n",
      "               ^\n",
      "SyntaxError: Python keyword not valid identifier in numexpr query\n"
     ]
    },
    {
     "name": "stdout",
     "output_type": "stream",
     "text": [
      "Exception occurred while processing request: query \"`ID` == 1 and `ID` == 5\" found no data, please alter\n",
      "Traceback (most recent call last):\n",
      "  File \"/home/willy/anaconda3/lib/python3.9/site-packages/dtale/views.py\", line 120, in _handle_exceptions\n",
      "    return func(*args, **kwargs)\n",
      "  File \"/home/willy/anaconda3/lib/python3.9/site-packages/dtale/views.py\", line 1834, in test_filter\n",
      "    run_query(\n",
      "  File \"/home/willy/anaconda3/lib/python3.9/site-packages/dtale/query.py\", line 76, in run_query\n",
      "    raise Exception('query \"{}\" found no data, please alter'.format(query))\n",
      "Exception: query \"`ID` == 1 and `ID` == 5\" found no data, please alter\n"
     ]
    },
    {
     "name": "stderr",
     "output_type": "stream",
     "text": [
      "2022-05-23 04:10:47,177 - ERROR    - Exception occurred while processing request: query \"`ID` == 1 and `ID` == 5\" found no data, please alter\n",
      "Traceback (most recent call last):\n",
      "  File \"/home/willy/anaconda3/lib/python3.9/site-packages/dtale/views.py\", line 120, in _handle_exceptions\n",
      "    return func(*args, **kwargs)\n",
      "  File \"/home/willy/anaconda3/lib/python3.9/site-packages/dtale/views.py\", line 1834, in test_filter\n",
      "    run_query(\n",
      "  File \"/home/willy/anaconda3/lib/python3.9/site-packages/dtale/query.py\", line 76, in run_query\n",
      "    raise Exception('query \"{}\" found no data, please alter'.format(query))\n",
      "Exception: query \"`ID` == 1 and `ID` == 5\" found no data, please alter\n"
     ]
    },
    {
     "name": "stdout",
     "output_type": "stream",
     "text": [
      "Exception occurred while processing request: query \"(`ID` == 1) and (`ID` == 5)\" found no data, please alter\n",
      "Traceback (most recent call last):\n",
      "  File \"/home/willy/anaconda3/lib/python3.9/site-packages/dtale/views.py\", line 120, in _handle_exceptions\n",
      "    return func(*args, **kwargs)\n",
      "  File \"/home/willy/anaconda3/lib/python3.9/site-packages/dtale/views.py\", line 1834, in test_filter\n",
      "    run_query(\n",
      "  File \"/home/willy/anaconda3/lib/python3.9/site-packages/dtale/query.py\", line 76, in run_query\n",
      "    raise Exception('query \"{}\" found no data, please alter'.format(query))\n",
      "Exception: query \"(`ID` == 1) and (`ID` == 5)\" found no data, please alter\n"
     ]
    },
    {
     "name": "stderr",
     "output_type": "stream",
     "text": [
      "2022-05-23 04:11:46,767 - ERROR    - Exception occurred while processing request: query \"(`ID` == 1) and (`ID` == 5)\" found no data, please alter\n",
      "Traceback (most recent call last):\n",
      "  File \"/home/willy/anaconda3/lib/python3.9/site-packages/dtale/views.py\", line 120, in _handle_exceptions\n",
      "    return func(*args, **kwargs)\n",
      "  File \"/home/willy/anaconda3/lib/python3.9/site-packages/dtale/views.py\", line 1834, in test_filter\n",
      "    run_query(\n",
      "  File \"/home/willy/anaconda3/lib/python3.9/site-packages/dtale/query.py\", line 76, in run_query\n",
      "    raise Exception('query \"{}\" found no data, please alter'.format(query))\n",
      "Exception: query \"(`ID` == 1) and (`ID` == 5)\" found no data, please alter\n"
     ]
    }
   ],
   "source": [
    "import dtale\n",
    "\n",
    "dtale.show(df)"
   ]
  },
  {
   "cell_type": "code",
   "execution_count": null,
   "id": "978418b1",
   "metadata": {},
   "outputs": [],
   "source": []
  }
 ],
 "metadata": {
  "kernelspec": {
   "display_name": "Python 3 (ipykernel)",
   "language": "python",
   "name": "python3"
  },
  "language_info": {
   "codemirror_mode": {
    "name": "ipython",
    "version": 3
   },
   "file_extension": ".py",
   "mimetype": "text/x-python",
   "name": "python",
   "nbconvert_exporter": "python",
   "pygments_lexer": "ipython3",
   "version": "3.9.12"
  }
 },
 "nbformat": 4,
 "nbformat_minor": 5
}
